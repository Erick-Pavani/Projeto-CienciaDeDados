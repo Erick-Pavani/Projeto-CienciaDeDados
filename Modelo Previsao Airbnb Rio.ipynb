{
 "cells": [
  {
   "cell_type": "markdown",
   "metadata": {},
   "source": [
    "# Projeto de ciência de dados - Airbnb Rio \n",
    "## Ferramenta de previsão de preço de imóvel para pessoas comuns "
   ]
  },
  {
   "cell_type": "markdown",
   "metadata": {},
   "source": [
    "### Esse projeto foi realizado pelo curso Python Impressionador da Hashtag Treinamentos. \n",
    "### Curso de Python e site da Hashtag: https://www.hashtagtreinamentos.com/curso-python\n",
    "\n",
    "### Contexto\n",
    "\n",
    "No Airbnb, qualquer pessoa que tenha um quarto ou um imóvel de qualquer tipo (apartamento, casa, chalé, pousada, etc.) pode ofertar o seu imóvel para ser alugado por diária.\n",
    "\n",
    "Você cria o seu perfil de host (pessoa que disponibiliza um imóvel para aluguel por diária) e cria o anúncio do seu imóvel.\n",
    "\n",
    "Nesse anúncio, o host deve descrever as características do imóvel da forma mais completa possível, de forma a ajudar os locadores/viajantes a escolherem o melhor imóvel para eles (e de forma a tornar o seu anúncio mais atrativo)\n",
    "\n",
    "Existem dezenas de personalizações possíveis no seu anúncio, desde quantidade mínima de diária, preço, quantidade de quartos, até regras de cancelamento, taxa extra para hóspedes extras, exigência de verificação de identidade do locador, etc.\n",
    "\n",
    "### Objetivo\n",
    "\n",
    "Construir um modelo de previsão de preço que permita uma pessoa comum que possui um imóvel possa saber quanto deve cobrar pela diária do seu imóvel.\n",
    "\n",
    "Ou ainda, para o locador comum, dado o imóvel que ele está buscando, ajudar a saber se aquele imóvel está com preço atrativo (abaixo da média para imóveis com as mesmas características) ou não.\n",
    "\n",
    "### Inspirações e créditos\n",
    "\n",
    "As bases de dados foram retiradas do site kaggle: https://www.kaggle.com/allanbruno/airbnb-rio-de-janeiro\n",
    "\n",
    "### Expectativas Iniciais\n",
    "\n",
    "- Acredito que a sazonalidade pode ser um fator importante, visto que meses como dezembro costumam ser bem caros no RJ\n",
    "- A localização do imóvel deve fazer muita diferença no preço, já que no Rio de Janeiro a localização pode mudar completamente as características do lugar (segurança, beleza natural, pontos turísticos)\n",
    "- Adicionais/Comodidades podem ter um impacto significativo, visto que temos muitos prédios e casas antigos no Rio de Janeiro\n",
    "\n",
    "Vamos descobrir o quanto esses fatores impactam e se temos outros fatores não tão intuitivos que são extremamente importantes."
   ]
  },
  {
   "cell_type": "code",
   "execution_count": null,
   "metadata": {},
   "outputs": [],
   "source": [
    "# Imports\n",
    "import pandas as pd\n",
    "import pathlib\n",
    "import numpy as np\n",
    "import seaborn as sns\n",
    "import matplotlib.pyplot as plt\n",
    "import plotly.express as px\n",
    "from sklearn.metrics import r2_score, mean_squared_error\n",
    "from sklearn.linear_model import LinearRegression\n",
    "from sklearn.ensemble import RandomForestRegressor, ExtraTreesRegressor\n",
    "from sklearn.model_selection import train_test_split\n",
    "import joblib\n",
    "import atexit\n",
    "from time import time, strftime, localtime\n",
    "from datetime import timedelta\n"
   ]
  },
  {
   "cell_type": "markdown",
   "metadata": {},
   "source": [
    "## As funções abaixo são usadas apenas para obter o tempo de execução de cada um dos modelos de machine learning"
   ]
  },
  {
   "cell_type": "code",
   "execution_count": null,
   "metadata": {},
   "outputs": [],
   "source": [
    "def secondsToStr(elapsed = None):\n",
    "    \n",
    "    if elapsed is None:\n",
    "        return strftime(\"%Y-%m-%d %H:%M:%S\", localtime())\n",
    "    else:\n",
    "        return str(timedelta(seconds = elapsed))\n",
    "\n",
    "def log(s, elapsed = None):\n",
    "    \n",
    "    line = \"=\" * 40\n",
    "    print(line)\n",
    "    print(secondsToStr(), '-', s)\n",
    "    \n",
    "    if elapsed:\n",
    "        print(\"Tempo de execução:\", elapsed)\n",
    "    \n",
    "    print(line)\n",
    "    print()\n",
    "\n",
    "def endlog():\n",
    "\n",
    "    end = time()\n",
    "    elapsed = end-start\n",
    "    log(\"Fim do modelo!\", secondsToStr(elapsed))\n"
   ]
  },
  {
   "cell_type": "markdown",
   "metadata": {},
   "source": [
    "### Importando as bases de dados\n",
    "\n",
    "Foi criado um dicionário com os 3 primeiros caracteres com os nomes dos meses e o número correspondente daquele mês.\n",
    "\n",
    "Para cada arquivo da base de dados será importado o arquivo e criada uma coluna na base de dados com o mês e o ano de cada informação"
   ]
  },
  {
   "cell_type": "code",
   "execution_count": null,
   "metadata": {},
   "outputs": [],
   "source": [
    "meses = {'jan': 1, 'fev': 2, 'mar': 3, 'abr': 4, 'mai': 5, 'jun': 6, 'jul': 7, 'ago': 8, 'set': 9, 'out': 10, 'nov': 11, 'dez': 12}\n",
    "\n",
    "caminho_bases = pathlib.Path('dataset')\n",
    "\n",
    "base_airbnb = pd.DataFrame()\n",
    "\n",
    "for arquivo in caminho_bases.iterdir():\n",
    "    nome_mes = arquivo.name[:3]\n",
    "    mes = meses[nome_mes]\n",
    "    \n",
    "    ano = arquivo.name[-8:]\n",
    "    ano = int(ano.replace('.csv', ''))\n",
    "    \n",
    "    df = pd.read_csv(caminho_bases / arquivo.name, low_memory = False)\n",
    "    df['ano'] = ano\n",
    "    df['mes'] = mes\n",
    "    base_airbnb = base_airbnb.append(df)\n",
    "\n",
    "display(base_airbnb)"
   ]
  },
  {
   "cell_type": "markdown",
   "metadata": {},
   "source": [
    "### Tratamentos\n",
    "\n",
    "- Como existem muitas colunas, o modelo pode acabar ficando muito lento.\n",
    "\n",
    "- Além disso, uma análise rápida permite ver que várias colunas não são necessárias para o nosso modelo de previsão, por isso, serão excluídas algumas colunas da base.\n",
    "\n",
    "- Tipos de colunas que serão excluídas:\n",
    "    \n",
    "    1. IDs, Links e informações não relevantes para o modelo.\n",
    "    \n",
    "    2. Colunas repetidas ou extremamente parecidas com outra (que dão a mesma informação para o modelo. Ex: Data x Ano/Mês.\n",
    "    \n",
    "    3. Colunas preenchidas com texto livre.\n",
    "    \n",
    "    4. Colunas em que todos ou quase todos os valores são iguais.\n",
    "    \n",
    "- Para isso, será criado um arquivo em excel com os 1.000 primeiros registros e será feita uma análise qualitativa, olhando as colunas e identificando quais são desnecessárias."
   ]
  },
  {
   "cell_type": "code",
   "execution_count": null,
   "metadata": {},
   "outputs": [],
   "source": [
    "print(list(base_airbnb.columns))\n",
    "base_airbnb.head(1000).to_csv('primeiros_registros.csv', sep = ';')"
   ]
  },
  {
   "cell_type": "markdown",
   "metadata": {},
   "source": [
    "### Depois da análise qualitativa das colunas, levando em conta os critérios explicados acima, as seguintes colunas serão as usadas no modelo:\n"
   ]
  },
  {
   "cell_type": "code",
   "execution_count": null,
   "metadata": {},
   "outputs": [],
   "source": [
    "colunas = ['host_response_time', 'host_response_rate', 'host_is_superhost', 'host_listings_count', 'latitude', 'longitude', 'property_type', 'room_type', 'accommodates', 'bathrooms', 'bedrooms', 'beds', 'bed_type', 'amenities', 'price', 'security_deposit', 'cleaning_fee', 'guests_included', 'extra_people', 'minimum_nights', 'maximum_nights', 'number_of_reviews', 'review_scores_rating', 'review_scores_accuracy', 'review_scores_cleanliness', 'review_scores_checkin', 'review_scores_communication', 'review_scores_location', 'review_scores_value', 'instant_bookable', 'is_business_travel_ready', 'cancellation_policy', 'ano', 'mes']\n",
    "\n",
    "base_airbnb = base_airbnb.loc[:, colunas]\n",
    "\n",
    "print(list(base_airbnb.columns))\n",
    "\n",
    "display(base_airbnb)"
   ]
  },
  {
   "cell_type": "markdown",
   "metadata": {},
   "source": [
    "### Tratamento de valores vazios\n",
    "\n",
    "- Visualizando os dados, percebe-se que existe uma grande disparidade em dados faltantes. As colunas com mais de 300.000 valores NaN foram excluídas da análise.\n",
    "\n",
    "- Para as outras colunas, como existem muitos dados (mais de 900.000 linhas) serão excluídas as linhas que contém dados NaN."
   ]
  },
  {
   "cell_type": "code",
   "execution_count": null,
   "metadata": {},
   "outputs": [],
   "source": [
    "for coluna in base_airbnb:\n",
    "    if base_airbnb[coluna].isnull().sum() > 300000:\n",
    "        base_airbnb = base_airbnb.drop(coluna, axis = 1)\n",
    "print(base_airbnb.isnull().sum())"
   ]
  },
  {
   "cell_type": "markdown",
   "metadata": {},
   "source": [
    "- Agora serão excluídas as linhas vazias"
   ]
  },
  {
   "cell_type": "code",
   "execution_count": null,
   "metadata": {},
   "outputs": [],
   "source": [
    "base_airbnb = base_airbnb.dropna()\n",
    "\n",
    "print(base_airbnb.shape)\n",
    "print(base_airbnb.isnull().sum())"
   ]
  },
  {
   "cell_type": "markdown",
   "metadata": {},
   "source": [
    "### Verificação de tipos de dados em cada coluna\n",
    "\n",
    "- Para garantir que todas as colunas estejam sendo lidas de acordo"
   ]
  },
  {
   "cell_type": "code",
   "execution_count": null,
   "metadata": {},
   "outputs": [],
   "source": [
    "print(base_airbnb.dtypes)\n",
    "print('-' * 60)\n",
    "print(base_airbnb.iloc[0])"
   ]
  },
  {
   "cell_type": "markdown",
   "metadata": {},
   "source": [
    "- Como preço e extra people estão sendo reconhecidos como objeto (ao invés de ser um float) mudarei o tipo de variável da coluna."
   ]
  },
  {
   "cell_type": "code",
   "execution_count": null,
   "metadata": {},
   "outputs": [],
   "source": [
    "# Price\n",
    "base_airbnb['price'] = base_airbnb['price'].str.replace('$', '')\n",
    "base_airbnb['price'] = base_airbnb['price'].str.replace(',', '')\n",
    "base_airbnb['price'] = base_airbnb['price'].astype(np.float32, copy = False)\n",
    "\n",
    "# Extra people\n",
    "base_airbnb['extra_people'] = base_airbnb['extra_people'].str.replace('$', '')\n",
    "base_airbnb['extra_people'] = base_airbnb['extra_people'].str.replace(',', '')\n",
    "base_airbnb['extra_people'] = base_airbnb['extra_people'].astype(np.float32, copy = False)\n",
    "\n",
    "# Verificando os tipos\n",
    "print(base_airbnb.dtypes)"
   ]
  },
  {
   "cell_type": "markdown",
   "metadata": {},
   "source": [
    "### Análise exploratória e tratamento de outliers\n",
    "\n",
    "- Cada feature será analisada para:\n",
    "\n",
    "    1. Ver a correlação entre as features e decidir se serão mantidas as features que temos.\n",
    "    \n",
    "    2. Excluir outliers (será usado como regra, valores abaixo de Q1 - 1.5x Amplitude e valores acima de Q3 + 1.5x Amplitude). Amplitude = Q3 - Q1.\n",
    "    \n",
    "    3. Confirmar se todas as features fazem realmente sentido para o modelo ou se alguma delas não vai ajudar e deve ser excluída."
   ]
  },
  {
   "cell_type": "code",
   "execution_count": null,
   "metadata": {},
   "outputs": [],
   "source": [
    "plt.figure(figsize = (15, 10))\n",
    "sns.heatmap(base_airbnb.corr(), annot = True, cmap = 'Greens')"
   ]
  },
  {
   "cell_type": "markdown",
   "metadata": {},
   "source": [
    "### Definição das funções para analisar os outliers\n",
    "\n",
    "Vamos definir algumas funções para ajudar na análise de outliers das colunas"
   ]
  },
  {
   "cell_type": "code",
   "execution_count": null,
   "metadata": {},
   "outputs": [],
   "source": [
    "def limites(coluna):\n",
    "\n",
    "    q1 = coluna.quantile(0.25)\n",
    "    q3 = coluna.quantile(0.75)\n",
    "    amplitude = q3 - q1\n",
    "    \n",
    "    return q1 - 1.5 * amplitude, q3 + 1.5 * amplitude\n",
    "\n",
    "def excluir_outliers(df, nome_coluna):\n",
    "    \n",
    "    qtde_linhas = df.shape[0]\n",
    "    lim_inf, lim_sup = limites(df[nome_coluna])\n",
    "    df = df.loc[(df[nome_coluna] >= lim_inf) & (df[nome_coluna] <= lim_sup), :]\n",
    "    linhas_removidas = qtde_linhas - df.shape[0]\n",
    "    \n",
    "    return df,  linhas_removidas"
   ]
  },
  {
   "cell_type": "code",
   "execution_count": 61,
   "metadata": {},
   "outputs": [],
   "source": [
    "# As funções abaixo plotam gráficos de diferentes tipos\n",
    "\n",
    "def diagrama_caixa(coluna):\n",
    "    \n",
    "    fig, (ax1, ax2) = plt.subplots(1, 2)\n",
    "    fig.set_size_inches(15, 5)\n",
    "    sns.boxplot(x = coluna, ax = ax1)\n",
    "    ax2.set_xlim(limites(coluna))\n",
    "    sns.boxplot(x = coluna, ax = ax2)\n",
    "    \n",
    "def histograma(coluna):\n",
    "    \n",
    "    plt.figure(figsize = (15, 5))\n",
    "    sns.distplot(coluna, hist = True)\n",
    "\n",
    "def grafico_barra(coluna):  \n",
    "    \n",
    "    plt.figure(figsize = (15, 5))\n",
    "    ax = sns.barplot(x = coluna.value_counts().index, y = coluna.value_counts())\n",
    "    ax.set_xlim(limites(coluna))"
   ]
  },
  {
   "cell_type": "markdown",
   "metadata": {},
   "source": [
    "### Plotando gráfico para a análise de outliers de cada coluna:"
   ]
  },
  {
   "cell_type": "markdown",
   "metadata": {},
   "source": [
    "- ### Coluna 'price'"
   ]
  },
  {
   "cell_type": "code",
   "execution_count": null,
   "metadata": {},
   "outputs": [],
   "source": [
    "diagrama_caixa(base_airbnb['price'])\n",
    "histograma(base_airbnb['price'])"
   ]
  },
  {
   "cell_type": "markdown",
   "metadata": {},
   "source": [
    "Como o modelo é para imóveis comuns, acredito que os valores acima do limite superior serão apenas de imóveis de altíssimo luxo, que não é o objetivo principal. Por isso, serão excluídos esses outliers."
   ]
  },
  {
   "cell_type": "code",
   "execution_count": null,
   "metadata": {},
   "outputs": [],
   "source": [
    "base_airbnb, linhas_removidas = excluir_outliers(base_airbnb, 'price')\n",
    "print('{} linhas removidas'.format(linhas_removidas))"
   ]
  },
  {
   "cell_type": "code",
   "execution_count": null,
   "metadata": {
    "scrolled": true
   },
   "outputs": [],
   "source": [
    "histograma(base_airbnb['price'])\n",
    "print(base_airbnb.shape)"
   ]
  },
  {
   "cell_type": "markdown",
   "metadata": {},
   "source": [
    "- ### Coluna 'extra_people'"
   ]
  },
  {
   "cell_type": "code",
   "execution_count": null,
   "metadata": {},
   "outputs": [],
   "source": [
    "diagrama_caixa(base_airbnb['extra_people'])\n",
    "histograma(base_airbnb['extra_people'])"
   ]
  },
  {
   "cell_type": "code",
   "execution_count": null,
   "metadata": {},
   "outputs": [],
   "source": [
    "base_airbnb, linhas_removidas = excluir_outliers(base_airbnb, 'extra_people')\n",
    "print('{} linhas removidas'.format(linhas_removidas))"
   ]
  },
  {
   "cell_type": "code",
   "execution_count": null,
   "metadata": {},
   "outputs": [],
   "source": [
    "histograma(base_airbnb['extra_people'])\n",
    "print(base_airbnb.shape)"
   ]
  },
  {
   "cell_type": "markdown",
   "metadata": {},
   "source": [
    "- ### Coluna 'host_listings_count'"
   ]
  },
  {
   "cell_type": "code",
   "execution_count": null,
   "metadata": {
    "scrolled": false
   },
   "outputs": [],
   "source": [
    "diagrama_caixa(base_airbnb['host_listings_count'])\n",
    "grafico_barra(base_airbnb['host_listings_count'])"
   ]
  },
  {
   "cell_type": "markdown",
   "metadata": {},
   "source": [
    "Serão excluídos os outliers, pois para o objetivo do projeto hosts com mais de 6 imóveis no airbnb não são o público alvo do objetivo do projeto (imagino que sejam imobiliários ou profissionais que gerenciam imóveis no airbnb)"
   ]
  },
  {
   "cell_type": "code",
   "execution_count": null,
   "metadata": {},
   "outputs": [],
   "source": [
    "base_airbnb, linhas_removidas = excluir_outliers(base_airbnb, 'host_listings_count')\n",
    "print('{} linhas removidas'.format(linhas_removidas))"
   ]
  },
  {
   "cell_type": "markdown",
   "metadata": {},
   "source": [
    "- ### Coluna 'accommodates'"
   ]
  },
  {
   "cell_type": "code",
   "execution_count": null,
   "metadata": {
    "scrolled": false
   },
   "outputs": [],
   "source": [
    "diagrama_caixa(base_airbnb['accommodates'])\n",
    "grafico_barra(base_airbnb['accommodates'])"
   ]
  },
  {
   "cell_type": "markdown",
   "metadata": {},
   "source": [
    "- Pelo mesmo motivo do \"host_listings_count\" serão excluídos os outliers dessa coluna pois apartamentos que acomodam mais de 9 pessoas provavelmente não são imóveis comuns."
   ]
  },
  {
   "cell_type": "code",
   "execution_count": null,
   "metadata": {},
   "outputs": [],
   "source": [
    "base_airbnb, linhas_removidas = excluir_outliers(base_airbnb, 'accommodates')\n",
    "print('{} linhas removidas'.format(linhas_removidas))"
   ]
  },
  {
   "cell_type": "markdown",
   "metadata": {},
   "source": [
    "- ### Coluna 'bathrooms' "
   ]
  },
  {
   "cell_type": "code",
   "execution_count": null,
   "metadata": {},
   "outputs": [],
   "source": [
    "diagrama_caixa(base_airbnb['bathrooms'])\n",
    "plt.figure(figsize = (15, 5))\n",
    "sns.barplot(x = base_airbnb['bathrooms'].value_counts().index, y = base_airbnb['bathrooms'].value_counts())"
   ]
  },
  {
   "cell_type": "markdown",
   "metadata": {},
   "source": [
    "- Pelo mesmo motivo dos anteriores, serão excluídos os outliers nos banheiros."
   ]
  },
  {
   "cell_type": "code",
   "execution_count": null,
   "metadata": {},
   "outputs": [],
   "source": [
    "base_airbnb, linhas_removidas = excluir_outliers(base_airbnb, 'bathrooms')\n",
    "print('{} linhas removidas'.format(linhas_removidas))"
   ]
  },
  {
   "cell_type": "markdown",
   "metadata": {},
   "source": [
    "- ### Coluna 'bedrooms'"
   ]
  },
  {
   "cell_type": "code",
   "execution_count": null,
   "metadata": {},
   "outputs": [],
   "source": [
    "diagrama_caixa(base_airbnb['bedrooms'])\n",
    "grafico_barra(base_airbnb['bedrooms'])"
   ]
  },
  {
   "cell_type": "markdown",
   "metadata": {},
   "source": [
    "- Pelo mesmo motivo dos anteriores, serão excluídos os outliers em quantidade de quartos."
   ]
  },
  {
   "cell_type": "code",
   "execution_count": null,
   "metadata": {
    "scrolled": true
   },
   "outputs": [],
   "source": [
    "base_airbnb, linhas_removidas = excluir_outliers(base_airbnb, 'bedrooms')\n",
    "print('{} linhas removidas'.format(linhas_removidas))"
   ]
  },
  {
   "cell_type": "markdown",
   "metadata": {},
   "source": [
    "- ### Coluna 'beds'"
   ]
  },
  {
   "cell_type": "code",
   "execution_count": null,
   "metadata": {},
   "outputs": [],
   "source": [
    "diagrama_caixa(base_airbnb['beds'])\n",
    "grafico_barra(base_airbnb['beds'])"
   ]
  },
  {
   "cell_type": "markdown",
   "metadata": {},
   "source": [
    "- Pelo mesmo motivo dos anteriores, serão excluídos os outliers em quantidade de camas."
   ]
  },
  {
   "cell_type": "code",
   "execution_count": null,
   "metadata": {},
   "outputs": [],
   "source": [
    "base_airbnb, linhas_removidas = excluir_outliers(base_airbnb, 'beds')\n",
    "print('{} linhas removidas'.format(linhas_removidas))"
   ]
  },
  {
   "cell_type": "markdown",
   "metadata": {},
   "source": [
    "- ### Coluna 'guests_included'"
   ]
  },
  {
   "cell_type": "code",
   "execution_count": null,
   "metadata": {},
   "outputs": [],
   "source": [
    "print(limites(base_airbnb['guests_included']))\n",
    "plt.figure(figsize = (15, 5))\n",
    "sns.barplot(x = base_airbnb['guests_included'].value_counts().index, y = base_airbnb['guests_included'].value_counts())"
   ]
  },
  {
   "cell_type": "markdown",
   "metadata": {},
   "source": [
    "Essa feature será removida da análise. Ao que tudo indica, os usuários do airbnb usam muito o valor padrão do airbnb como 1 guest included. Isso pode levar o nosso modelo a considerar uma feature que na verdade não é essencial para a definição do preço, por isso, me parece melhor excluir a coluna da análise."
   ]
  },
  {
   "cell_type": "code",
   "execution_count": null,
   "metadata": {},
   "outputs": [],
   "source": [
    "base_airbnb = base_airbnb.drop('guests_included', axis = 1)\n",
    "base_airbnb.shape"
   ]
  },
  {
   "cell_type": "markdown",
   "metadata": {},
   "source": [
    "- ### Coluna 'minimum_nights'"
   ]
  },
  {
   "cell_type": "code",
   "execution_count": null,
   "metadata": {},
   "outputs": [],
   "source": [
    "diagrama_caixa(base_airbnb['minimum_nights'])\n",
    "grafico_barra(base_airbnb['minimum_nights'])"
   ]
  },
  {
   "cell_type": "markdown",
   "metadata": {},
   "source": [
    "- Estamos querendo um modelo que ajude a precificar apartamentos comuns como uma pessoa comum gostaria de disponibilizar. No caso, apartamentos com mais de 8 noites como o \"mínimo de noites\" podem ser apartamentos de temporada ou ainda apartamentos para morar, em que o host exige pelo menos 1 mês no apartamento.\n",
    "\n",
    "- Por isso, serão excluídos os outliers dessa coluna."
   ]
  },
  {
   "cell_type": "code",
   "execution_count": null,
   "metadata": {},
   "outputs": [],
   "source": [
    "base_airbnb, linhas_removidas = excluir_outliers(base_airbnb, 'minimum_nights')\n",
    "print('{} linhas removidas'.format(linhas_removidas))"
   ]
  },
  {
   "cell_type": "markdown",
   "metadata": {},
   "source": [
    "- ### Coluna 'maximum_nights'"
   ]
  },
  {
   "cell_type": "code",
   "execution_count": null,
   "metadata": {},
   "outputs": [],
   "source": [
    "diagrama_caixa(base_airbnb['maximum_nights'])\n",
    "grafico_barra(base_airbnb['maximum_nights'])"
   ]
  },
  {
   "cell_type": "markdown",
   "metadata": {},
   "source": [
    "- Ao que tudo indica quase todos os hosts não preenchem esse campo de maximum nights, portanto, não parece ser um fator relevante.\n",
    "\n",
    "- Essa coluna será excluída da análise."
   ]
  },
  {
   "cell_type": "code",
   "execution_count": null,
   "metadata": {},
   "outputs": [],
   "source": [
    "base_airbnb = base_airbnb.drop('maximum_nights', axis = 1)\n",
    "base_airbnb.shape"
   ]
  },
  {
   "cell_type": "markdown",
   "metadata": {},
   "source": [
    "- ### Coluna 'number_of_reviews'            "
   ]
  },
  {
   "cell_type": "code",
   "execution_count": null,
   "metadata": {},
   "outputs": [],
   "source": [
    "diagrama_caixa(base_airbnb['number_of_reviews'])\n",
    "grafico_barra(base_airbnb['number_of_reviews'])"
   ]
  },
  {
   "cell_type": "markdown",
   "metadata": {},
   "source": [
    "Aqui a coluna será removida do modelo, levando em consideração que o objetivo do projeto é para casas e pessoas comuns, é altamente provável que as pessoas que usariam esse modelo estariam anunciando sua casa/apartamento pela primeira vez e portanto não teriam reviews ainda."
   ]
  },
  {
   "cell_type": "code",
   "execution_count": null,
   "metadata": {},
   "outputs": [],
   "source": [
    "base_airbnb = base_airbnb.drop('number_of_reviews', axis = 1)\n",
    "base_airbnb.shape"
   ]
  },
  {
   "cell_type": "markdown",
   "metadata": {},
   "source": [
    "### Tratamento das colunas de valores de texto"
   ]
  },
  {
   "cell_type": "markdown",
   "metadata": {},
   "source": [
    "- ### Coluna 'property_type' "
   ]
  },
  {
   "cell_type": "code",
   "execution_count": null,
   "metadata": {},
   "outputs": [],
   "source": [
    "print(base_airbnb['property_type'].value_counts())\n",
    "\n",
    "plt.figure(figsize = (15, 5))\n",
    "grafico = sns.countplot('property_type', data = base_airbnb)\n",
    "grafico.tick_params(axis = 'x', rotation = 90)"
   ]
  },
  {
   "cell_type": "markdown",
   "metadata": {},
   "source": [
    "- Aqui serão agrupados valores muito pequenos.\n",
    "\n",
    "- Todos os tipos de propriedade que têm menos de 2.000 propriedades na base de dados, serão agrupados em um grupo chamado \"outros\"."
   ]
  },
  {
   "cell_type": "code",
   "execution_count": null,
   "metadata": {},
   "outputs": [],
   "source": [
    "tabela_tipos_casa = base_airbnb['property_type'].value_counts()\n",
    "colunas_agrupar = []\n",
    "\n",
    "for tipo in tabela_tipos_casa.index:\n",
    "    if tabela_tipos_casa[tipo] < 2000:\n",
    "        colunas_agrupar.append(tipo)\n",
    "\n",
    "print(colunas_agrupar)\n",
    "\n",
    "for tipo in colunas_agrupar:\n",
    "    base_airbnb.loc[base_airbnb['property_type'] == tipo, 'property_type'] = 'Outros'\n",
    "\n",
    "print(base_airbnb['property_type'].value_counts())\n",
    "\n",
    "plt.figure(figsize = (15, 5))\n",
    "grafico = sns.countplot('property_type', data = base_airbnb)\n",
    "grafico.tick_params(axis = 'x', rotation = 90)"
   ]
  },
  {
   "cell_type": "markdown",
   "metadata": {},
   "source": [
    "- ### Coluna 'room_type' "
   ]
  },
  {
   "cell_type": "code",
   "execution_count": null,
   "metadata": {},
   "outputs": [],
   "source": [
    "print(base_airbnb['room_type'].value_counts())\n",
    "\n",
    "plt.figure(figsize = (15, 5))\n",
    "grafico = sns.countplot('room_type', data = base_airbnb)\n",
    "grafico.tick_params(axis = 'x', rotation = 90)"
   ]
  },
  {
   "cell_type": "markdown",
   "metadata": {},
   "source": [
    "Nessa coluna, não farei nada, ela já parece estar bem distribuído"
   ]
  },
  {
   "cell_type": "markdown",
   "metadata": {},
   "source": [
    "- ### Coluna 'bed_type' "
   ]
  },
  {
   "cell_type": "code",
   "execution_count": null,
   "metadata": {},
   "outputs": [],
   "source": [
    "print(base_airbnb['bed_type'].value_counts())\n",
    "\n",
    "plt.figure(figsize = (15, 5))\n",
    "grafico = sns.countplot('bed_type', data = base_airbnb)\n",
    "grafico.tick_params(axis = 'x', rotation = 90)\n",
    "\n",
    "# Agrupando as categorias de tipo de cama ou 'bed_type'\n",
    "tabela_bed = base_airbnb['bed_type'].value_counts()\n",
    "colunas_agrupar = []\n",
    "\n",
    "for tipo in tabela_bed.index:\n",
    "    if tabela_bed[tipo] < 10000:\n",
    "        colunas_agrupar.append(tipo)\n",
    "\n",
    "print(colunas_agrupar)\n",
    "\n",
    "for tipo in colunas_agrupar:\n",
    "    base_airbnb.loc[base_airbnb['bed_type'] == tipo, 'bed_type'] = 'Outros'\n",
    "\n",
    "print(base_airbnb['bed_type'].value_counts())\n",
    "\n",
    "plt.figure(figsize = (15, 5))\n",
    "grafico = sns.countplot('bed_type', data = base_airbnb)\n",
    "grafico.tick_params(axis = 'x', rotation = 90)"
   ]
  },
  {
   "cell_type": "markdown",
   "metadata": {},
   "source": [
    "- Aqui serão agrupados valores muito pequenos.\n",
    "\n",
    "- Como existe um valor muito acima dos outros, vou criar apenas 2 grupos de camas: \"Real Bed\" e \"outros\"\n",
    "\n",
    "- Essa ação simplificará o modelo."
   ]
  },
  {
   "cell_type": "markdown",
   "metadata": {},
   "source": [
    "- ### Coluna 'cancellation_policy' "
   ]
  },
  {
   "cell_type": "code",
   "execution_count": null,
   "metadata": {},
   "outputs": [],
   "source": [
    "print(base_airbnb['cancellation_policy'].value_counts())\n",
    "\n",
    "plt.figure(figsize = (15, 5))\n",
    "grafico = sns.countplot('cancellation_policy', data = base_airbnb)\n",
    "grafico.tick_params(axis = 'x', rotation = 90)\n",
    "\n",
    "# Agrupando as categorias de 'cancellation_pollicy'\n",
    "tabela_cancellation = base_airbnb['cancellation_policy'].value_counts()\n",
    "colunas_agrupar = []\n",
    "\n",
    "for tipo in tabela_cancellation.index:\n",
    "    if tabela_cancellation[tipo] < 10000:\n",
    "        colunas_agrupar.append(tipo)\n",
    "\n",
    "print(colunas_agrupar)\n",
    "\n",
    "for tipo in colunas_agrupar:\n",
    "    base_airbnb.loc[base_airbnb['cancellation_policy'] == tipo, 'cancellation_policy'] = 'strict'\n",
    "\n",
    "print(base_airbnb['cancellation_policy'].value_counts())\n",
    "\n",
    "plt.figure(figsize = (15, 5))\n",
    "grafico = sns.countplot('cancellation_policy', data = base_airbnb)\n",
    "grafico.tick_params(axis = 'x', rotation = 90)"
   ]
  },
  {
   "cell_type": "markdown",
   "metadata": {},
   "source": [
    "- ### Coluna 'amenities' \n",
    "\n",
    "Como existe uma infinidade de amenities e muitas vezes as mesmas amenities são escritas de formas diferentes, esse modelo levará em consideração apenas a quantidade de amenities e não as amenities em si."
   ]
  },
  {
   "cell_type": "code",
   "execution_count": null,
   "metadata": {},
   "outputs": [],
   "source": [
    "print(base_airbnb['amenities'].iloc[1].split(','))\n",
    "print(len(base_airbnb['amenities'].iloc[1].split(',')))\n",
    "\n",
    "base_airbnb['n_amenities'] = base_airbnb['amenities'].str.split(',').apply(len)"
   ]
  },
  {
   "cell_type": "code",
   "execution_count": null,
   "metadata": {},
   "outputs": [],
   "source": [
    "base_airbnb = base_airbnb.drop('amenities', axis = 1)\n",
    "base_airbnb.shape"
   ]
  },
  {
   "cell_type": "code",
   "execution_count": null,
   "metadata": {},
   "outputs": [],
   "source": [
    "diagrama_caixa(base_airbnb['n_amenities'])\n",
    "grafico_barra(base_airbnb['n_amenities'])"
   ]
  },
  {
   "cell_type": "markdown",
   "metadata": {},
   "source": [
    "Agora essa coluna é uma coluna de valores numéricos (a quantidade de amenities), serão excluídos todos os outliers assim como nas outras colunas de valores numéricos tratadas anteriormente nesse modelo."
   ]
  },
  {
   "cell_type": "code",
   "execution_count": null,
   "metadata": {},
   "outputs": [],
   "source": [
    "base_airbnb, linhas_removidas = excluir_outliers(base_airbnb, 'n_amenities')\n",
    "print('{} linhas removidas'.format(linhas_removidas))"
   ]
  },
  {
   "cell_type": "markdown",
   "metadata": {},
   "source": [
    "### Visualização de mapa das propriedades\n",
    "\n",
    "Será criado um mapa que exibe um pedaço aleatório da base de dados (50.000 propriedades) para ver como as propriedades estão distribuídas pela cidade e também identificar os locais de maior preço."
   ]
  },
  {
   "cell_type": "code",
   "execution_count": null,
   "metadata": {},
   "outputs": [],
   "source": [
    "amostra = base_airbnb.sample(n = 50000)\n",
    "centro_mapa = {'lat':amostra.latitude.mean(), 'lon':amostra.longitude.mean()}\n",
    "mapa = px.density_mapbox(amostra, lat = 'latitude', lon = 'longitude', z = 'price', radius = 2.5,\n",
    "                        center = centro_mapa, zoom = 10,\n",
    "                        mapbox_style = 'stamen-terrain')\n",
    "\n",
    "mapa.show()"
   ]
  },
  {
   "cell_type": "markdown",
   "metadata": {},
   "source": [
    "### Encoding\n",
    "\n",
    "Aqui serão ajustadas as features para facilitar o trabalho do modelo futuro (features de categoria, true e false, etc.)\n",
    "\n",
    "- Features de Valores True ou False, serão substituidos True por 1 e False por 0.\n",
    "- Features de Categoria (features em que os valores da coluna são textos) será utilizado o método de encoding de variáveis dummies"
   ]
  },
  {
   "cell_type": "code",
   "execution_count": null,
   "metadata": {},
   "outputs": [],
   "source": [
    "colunas_tf = ['host_is_superhost', 'instant_bookable', 'is_business_travel_ready']\n",
    "base_airbnb_cod = base_airbnb.copy()\n",
    "\n",
    "for coluna in colunas_tf:\n",
    "    base_airbnb_cod.loc[base_airbnb_cod[coluna] == 't', coluna] = 1\n",
    "    base_airbnb_cod.loc[base_airbnb_cod[coluna] == 'f', coluna] = 0"
   ]
  },
  {
   "cell_type": "code",
   "execution_count": null,
   "metadata": {},
   "outputs": [],
   "source": [
    "colunas_categorias = ['property_type', 'room_type', 'bed_type', 'cancellation_policy']\n",
    "base_airbnb_cod = pd.get_dummies(data = base_airbnb_cod, columns = colunas_categorias)\n",
    "\n",
    "display(base_airbnb_cod.head())"
   ]
  },
  {
   "cell_type": "markdown",
   "metadata": {},
   "source": [
    "### Modelo de Previsão"
   ]
  },
  {
   "cell_type": "markdown",
   "metadata": {},
   "source": [
    "- Métricas de Avaliação\n",
    "\n",
    "Será usado aqui o 'R²' que dira o quão bem o modelo consegue explicar os preços. Isso seria um ótimo parâmetro para ver o quão bom é o modelo. <br>\n",
    "\n",
    "-> Quanto mais próximo de 100%, melhor\n",
    "\n",
    "Também será calculado o 'Erro Quadrático Médio', que mostrará o quanto o modelo está errando. <br>\n",
    "\n",
    "-> Quanto menor for o erro, melhor"
   ]
  },
  {
   "cell_type": "code",
   "execution_count": 62,
   "metadata": {},
   "outputs": [],
   "source": [
    "def avaliar_modelo(nome_modelo, y_teste, previsao):\n",
    "    r2 = r2_score(y_teste, previsao)\n",
    "    RSME = np.sqrt(mean_squared_error(y_teste, previsao))\n",
    "    \n",
    "    return f'Modelo {nome_modelo}:\\nR²:{r2:.2%}\\nRSME:{RSME:.2f}'"
   ]
  },
  {
   "cell_type": "markdown",
   "metadata": {},
   "source": [
    "- Os modelos que serão testados são:\n",
    "    \n",
    "    1. RandomForest\n",
    "    \n",
    "    2. LinearRegression\n",
    "    \n",
    "    3. Extra Tree"
   ]
  },
  {
   "cell_type": "code",
   "execution_count": null,
   "metadata": {},
   "outputs": [],
   "source": [
    "modelo_rf = RandomForestRegressor()\n",
    "modelo_lr = LinearRegression()\n",
    "modelo_et = ExtraTreesRegressor()\n",
    "\n",
    "modelos = {'RandomForest': modelo_rf,\n",
    "          'LinearRegression': modelo_lr,\n",
    "          'ExtraTrees': modelo_et,\n",
    "          }\n",
    "\n",
    "y = base_airbnb_cod['price']\n",
    "X = base_airbnb_cod.drop('price', axis = 1)"
   ]
  },
  {
   "cell_type": "markdown",
   "metadata": {},
   "source": [
    "- Serão separados os dados em dados de treino e dados de teste, e após isso, o modelo será treinado e testado usando esses dados."
   ]
  },
  {
   "cell_type": "code",
   "execution_count": null,
   "metadata": {},
   "outputs": [],
   "source": [
    "X_train, X_test, y_train, y_test = train_test_split(X, y, random_state = 10)\n",
    "\n",
    "for nome_modelo, modelo in modelos.items():\n",
    "    \n",
    "    # Treinar\n",
    "    modelo.fit(X_train, y_train)\n",
    "    \n",
    "    # Testar\n",
    "    start = time()\n",
    "    log('Começo da execução:', nome_modelo)\n",
    "\n",
    "    previsao = modelo.predict(X_test)\n",
    "    print(avaliar_modelo(nome_modelo, y_test, previsao))\n",
    "\n",
    "    endlog()"
   ]
  },
  {
   "cell_type": "markdown",
   "metadata": {},
   "source": [
    "### Análise do melhor modelo"
   ]
  },
  {
   "cell_type": "code",
   "execution_count": null,
   "metadata": {},
   "outputs": [],
   "source": [
    "for nome_modelo, modelo in modelos.items():\n",
    "    \n",
    "    # Testar\n",
    "    start = time()\n",
    "    log('Começo da execução:', nome_modelo)\n",
    "    \n",
    "    previsao = modelo.predict(X_test)\n",
    "    \n",
    "    print(avaliar_modelo(nome_modelo, y_test, previsao))\n",
    "    endlog()"
   ]
  },
  {
   "cell_type": "markdown",
   "metadata": {},
   "source": [
    "- O melhor modelo foi o: Extra Trees Regressor\n",
    "\n",
    "    Esse foi o modelo com maior valor de R² e ao mesmo tempo o menor valor de RSME. Como não houve uma grande diferença de velocidade de treino e de previsão desse modelo com o modelo de RandomForest (que teve resultados próximos de R² e RSME), será escolhido o Modelo Extra Trees.\n",
    "    \n",
    "    O modelo de regressão linear não obteve um resultado satisfatório, com valores de R² e RSME muito piores do que os outros 2 modelos.\n",
    "    \n",
    "- Resultados das métricas de avaliação no modelo vencedor:<br>\n",
    "Modelo ExtraTrees:<br>\n",
    "\n",
    "R²: 97.49%<br>\n",
    "\n",
    "RSME: 41.99"
   ]
  },
  {
   "cell_type": "markdown",
   "metadata": {},
   "source": [
    "### Ajustes e melhorias no modelo escolhido (melhor modelo)"
   ]
  },
  {
   "cell_type": "code",
   "execution_count": null,
   "metadata": {},
   "outputs": [],
   "source": [
    "importancia_features = pd.DataFrame(modelo_et.feature_importances_, X_train.columns)\n",
    "importancia_features = importancia_features.sort_values(by = 0, ascending = False)\n",
    "\n",
    "display(importancia_features)\n",
    "\n",
    "plt.figure(figsize = (15, 5))\n",
    "ax = sns.barplot(x = importancia_features.index, y = importancia_features[0])\n",
    "ax.tick_params(axis = 'x', rotation = 90)"
   ]
  },
  {
   "cell_type": "markdown",
   "metadata": {},
   "source": [
    "### Ajustes finais no modelo\n",
    "\n",
    "- A coluna 'is_business_travel_ready' não parece ter muito impacto no modelo. Por isso, para chegar em um modelo mais simples, essa feature será excluída e o modelo testado novamente sem ela.."
   ]
  },
  {
   "cell_type": "code",
   "execution_count": null,
   "metadata": {},
   "outputs": [],
   "source": [
    "base_airbnb_cod = base_airbnb_cod.drop('is_business_travel_ready', axis = 1)\n",
    "\n",
    "y = base_airbnb_cod['price']\n",
    "X = base_airbnb_cod.drop('price', axis = 1)\n",
    "\n",
    "X_train, X_test, y_train, y_test = train_test_split(X, y, random_state = 10)\n",
    "\n",
    "modelo_et.fit(X_train, y_train)\n",
    "previsao = modelo_et.predict(X_test)\n",
    "\n",
    "print(avaliar_modelo('ExtraTrees', y_test, previsao))"
   ]
  },
  {
   "cell_type": "code",
   "execution_count": null,
   "metadata": {},
   "outputs": [],
   "source": [
    "base_teste = base_airbnb_cod.copy()\n",
    "\n",
    "for coluna in base_teste:\n",
    "    if 'bed_type' in coluna:    \n",
    "        base_teste = base_teste.drop(coluna, axis = 1)\n",
    "\n",
    "print(base_teste.columns)\n",
    "\n",
    "y = base_teste['price']\n",
    "X = base_teste.drop('price', axis = 1)\n",
    "\n",
    "X_train, X_test, y_train, y_test = train_test_split(X, y, random_state = 10)\n",
    "\n",
    "modelo_et.fit(X_train, y_train)\n",
    "previsao = modelo_et.predict(X_test)\n",
    "\n",
    "print(avaliar_modelo('ExtraTrees', y_test, previsao))"
   ]
  },
  {
   "cell_type": "code",
   "execution_count": null,
   "metadata": {},
   "outputs": [],
   "source": [
    "print(previsao)"
   ]
  },
  {
   "cell_type": "markdown",
   "metadata": {},
   "source": [
    "# Deploy do projeto"
   ]
  },
  {
   "cell_type": "code",
   "execution_count": null,
   "metadata": {},
   "outputs": [],
   "source": [
    "X['price'] = y\n",
    "X.to_csv('dados.csv')"
   ]
  },
  {
   "cell_type": "code",
   "execution_count": null,
   "metadata": {},
   "outputs": [],
   "source": [
    "joblib.dump(modelo_et, 'modelo.joblib')"
   ]
  }
 ],
 "metadata": {
  "interpreter": {
   "hash": "074199b25a8a867ea9a75b8ed3063be9f78cb342e7387ae79a15242657ecab73"
  },
  "kernelspec": {
   "display_name": "Python 3.9.7 ('base')",
   "language": "python",
   "name": "python3"
  },
  "language_info": {
   "codemirror_mode": {
    "name": "ipython",
    "version": 3
   },
   "file_extension": ".py",
   "mimetype": "text/x-python",
   "name": "python",
   "nbconvert_exporter": "python",
   "pygments_lexer": "ipython3",
   "version": "3.9.7"
  }
 },
 "nbformat": 4,
 "nbformat_minor": 4
}
